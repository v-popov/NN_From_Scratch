{
 "cells": [
  {
   "cell_type": "code",
   "execution_count": 24,
   "metadata": {},
   "outputs": [],
   "source": [
    "import numpy as np\n",
    "import matplotlib\n",
    "import matplotlib.pyplot as plt\n",
    "%matplotlib inline"
   ]
  },
  {
   "cell_type": "code",
   "execution_count": 2,
   "metadata": {},
   "outputs": [],
   "source": [
    "def get_data(filename):\n",
    "    data = np.loadtxt(filename)\n",
    "    features = data[:,1:].T\n",
    "    labels = data[:,0].reshape(1,-1)-1\n",
    "    print(filename, ':\\n# Features shape =', features.shape, \n",
    "          '\\n# Labels shape =', labels.shape, '\\n')\n",
    "    return features, labels"
   ]
  },
  {
   "cell_type": "code",
   "execution_count": 3,
   "metadata": {},
   "outputs": [],
   "source": [
    "def standardize_features(X_train, X_test, eps=10e-4):\n",
    "    mu = np.mean(X_train, axis = 1, keepdims=True)\n",
    "    std = np.std(X_train, axis = 1, keepdims=True)\n",
    "    X_train = (X_train - mu) / (std + eps)\n",
    "    X_test = (X_test - mu) / (std + eps)\n",
    "    return X_train, X_test"
   ]
  },
  {
   "cell_type": "code",
   "execution_count": 4,
   "metadata": {},
   "outputs": [],
   "source": [
    "def initialize_parameters(layer_height, num_features):\n",
    "    np.random.seed(0)\n",
    "    W = np.random.randn(layer_height, num_features)*0.01\n",
    "    b = np.zeros((layer_height,1))\n",
    "    return W, b"
   ]
  },
  {
   "cell_type": "code",
   "execution_count": 5,
   "metadata": {},
   "outputs": [],
   "source": [
    "def softmax(z):\n",
    "    numerator = np.exp(z - np.max(z, axis=0))\n",
    "    return numerator / np.sum(numerator, axis=0)"
   ]
  },
  {
   "cell_type": "code",
   "execution_count": 6,
   "metadata": {},
   "outputs": [],
   "source": [
    "def split_train_dev(X, y, train_ratio=0.7):\n",
    "    np.random.seed(0)\n",
    "    num_samples = X.shape[1]\n",
    "    \n",
    "    permutated_ind = list(np.random.permutation(num_samples))\n",
    "    train_ind = permutated_ind[0:np.round(train_ratio*num_samples).astype(int)]\n",
    "    test_ind = permutated_ind[0:-np.round(train_ratio*num_samples).astype(int)]\n",
    "    \n",
    "    X_train = X[:,train_ind]\n",
    "    y_train = y[:,train_ind]\n",
    "    X_dev = X[:,test_ind]\n",
    "    y_dev = y[:,test_ind]\n",
    "    \n",
    "    return X_train, y_train, X_dev, y_dev"
   ]
  },
  {
   "cell_type": "code",
   "execution_count": 7,
   "metadata": {},
   "outputs": [],
   "source": [
    "def get_mini_batches(X, y, mini_batch_size):\n",
    "    np.random.seed(0)\n",
    "    num_samples = X.shape[1]\n",
    "    mini_batches = []\n",
    "    \n",
    "    permutated_ind = list(np.random.permutation(num_samples))\n",
    "    X_shuffled = X[: , permutated_ind]\n",
    "    y_shuffled = y[: , permutated_ind].reshape((1,num_samples))\n",
    "    \n",
    "    num_full_mini_batches = int(np.floor(num_samples/mini_batch_size))\n",
    "    \n",
    "    for t in range(num_full_mini_batches):\n",
    "        X_mini_batch = X_shuffled[: , mini_batch_size*t:mini_batch_size*(t+1)]\n",
    "        y_mini_batch = y_shuffled[: , mini_batch_size*t:mini_batch_size*(t+1)].astype(int) \n",
    "        \n",
    "        mini_batches.append((X_mini_batch, y_mini_batch))\n",
    "    \n",
    "    if num_samples % mini_batch_size:\n",
    "        X_mini_batch = X_shuffled[: , mini_batch_size*num_full_mini_batches:]\n",
    "        y_mini_batch = y_shuffled[: , mini_batch_size*num_full_mini_batches:].astype(int) \n",
    "        \n",
    "        mini_batches.append((X_mini_batch, y_mini_batch))\n",
    "    \n",
    "    return mini_batches"
   ]
  },
  {
   "cell_type": "code",
   "execution_count": 8,
   "metadata": {},
   "outputs": [],
   "source": [
    "def compute_grads(X, y_true, y_hat):\n",
    "    num_samples = X.shape[1]\n",
    "    dZ = y_hat-y_true\n",
    "    dW = 1/num_samples * np.dot(dZ,X.T)\n",
    "    db = 1/num_samples * np.sum(dZ, axis=1, keepdims=True)\n",
    "    return dW, db"
   ]
  },
  {
   "cell_type": "code",
   "execution_count": 9,
   "metadata": {},
   "outputs": [],
   "source": [
    "def compute_accuracy(class_num, X, y, W, b):\n",
    "    accuracy = np.nan\n",
    "    ind = np.where(y[0]==class_num)[0]\n",
    "    if ind.size > 0:\n",
    "        X_sub = X[:,ind]\n",
    "        y_sub = y[0][ind].astype(int)\n",
    "        y_hat = softmax(np.dot(W,X_sub) + b)\n",
    "        accuracy = np.sum(y_hat.argmax(axis=0) == y_sub) / y_sub.shape[0]\n",
    "    return accuracy"
   ]
  },
  {
   "cell_type": "code",
   "execution_count": 10,
   "metadata": {},
   "outputs": [],
   "source": [
    "def optimization(X_train, y_train, X_test, y_test, \n",
    "                 num_classes=10, learning_rate=0.01, beta=0.9, lambd=0.01, mini_batch_size=16, \n",
    "                 num_epochs=1000, compute_cost=False):\n",
    "    \n",
    "    np.random.seed(0)\n",
    "    \n",
    "    # Initializations\n",
    "    W, b = initialize_parameters(num_classes,X_train.shape[0])\n",
    "    train_costs = []\n",
    "    test_costs = []\n",
    "    mean_per_class_accuracy_train = []\n",
    "    mean_per_class_accuracy_test = []\n",
    "\n",
    "    # Momentum initialization\n",
    "    v_dW = np.zeros((W.shape))\n",
    "    v_db = np.zeros((b.shape))\n",
    "    \n",
    "    for i in range(num_epochs):\n",
    "        train_sub_costs = []\n",
    "        \n",
    "        mini_batches = get_mini_batches(X_train, y_train, mini_batch_size)\n",
    "        \n",
    "        for X_batch, y_batch in mini_batches:\n",
    "            num_samples = X_batch.shape[1]\n",
    "            y_hat = softmax(np.dot(W,X_batch) + b)\n",
    "            y_true = np.eye(num_classes)[y_batch[0]].T\n",
    "            \n",
    "            #print(y_hat.shape, '\\n', y_hat)\n",
    "            #print(y_true.shape, '\\n', y_true)\n",
    "            \n",
    "            cost = -(1/num_samples) * np.sum(y_hat*y_true) + lambd/(2*num_samples) * np.sum(W*W)\n",
    "            train_sub_costs.append(cost)\n",
    "            \n",
    "            dW, db = compute_grads(X_batch, y_true, y_hat)\n",
    "            dW += lambd/num_samples * W\n",
    "            \n",
    "            # Applying momentum\n",
    "            v_dW = beta*v_dW + (1-beta)*dW\n",
    "            v_db = beta*v_db + (1-beta)*db\n",
    "            \n",
    "            # Updating parameters\n",
    "            W -= learning_rate*v_dW\n",
    "            b -= learning_rate*v_db\n",
    "            \n",
    "            if compute_cost:\n",
    "                per_class_accuracy_train = []\n",
    "                for i in range(num_classes):\n",
    "                    per_class_accuracy_train.append(compute_accuracy(i, X_batch, y_batch, W, b))\n",
    "                    \n",
    "        if compute_cost:    \n",
    "            mean_per_class_accuracy_train.append(np.nanmean(per_class_accuracy_train)) \n",
    "        \n",
    "            train_costs.append(np.mean(train_sub_costs))\n",
    "        \n",
    "            per_class_accuracy_test = []\n",
    "            for i in range(num_classes):\n",
    "                per_class_accuracy_test.append(compute_accuracy(i, X_test, y_test, W, b))\n",
    "\n",
    "            mean_per_class_accuracy_test.append(np.nanmean(per_class_accuracy_test)) \n",
    "        \n",
    "            # test cost\n",
    "            num_samples_test = y_test.shape[1]\n",
    "            y_hat_test = softmax(np.dot(W,X_test) + b)\n",
    "            y_true_test = np.eye(num_classes)[y_test.astype(int)].T.reshape(-1,num_samples_test)\n",
    "            test_costs.append(-(1/num_samples_test) * np.sum(y_hat_test*y_true_test) + lambd/(2*num_samples_test) * np.sum(W*W))\n",
    "        \n",
    "    output = {'W' : W,\n",
    "              'b' : b,\n",
    "              'train_costs' : train_costs,\n",
    "              'test_costs' : test_costs,\n",
    "              'mean_per_class_accuracy_train' : mean_per_class_accuracy_train,\n",
    "              'mean_per_class_accuracy_test' : mean_per_class_accuracy_test}\n",
    "\n",
    "    return output"
   ]
  },
  {
   "cell_type": "markdown",
   "metadata": {},
   "source": [
    "# Reading and standardizing data"
   ]
  },
  {
   "cell_type": "code",
   "execution_count": 11,
   "metadata": {},
   "outputs": [
    {
     "name": "stdout",
     "output_type": "stream",
     "text": [
      "data/iris-train.txt :\n",
      "# Features shape = (2, 90) \n",
      "# Labels shape = (1, 90) \n",
      "\n",
      "data/iris-test.txt :\n",
      "# Features shape = (2, 51) \n",
      "# Labels shape = (1, 51) \n",
      "\n"
     ]
    }
   ],
   "source": [
    "X_train, y_train = get_data('data/iris-train.txt')\n",
    "X_test, y_test = get_data('data/iris-test.txt')"
   ]
  },
  {
   "cell_type": "code",
   "execution_count": 12,
   "metadata": {},
   "outputs": [],
   "source": [
    "X_train, X_test = standardize_features(X_train, X_test)"
   ]
  },
  {
   "cell_type": "markdown",
   "metadata": {},
   "source": [
    "# Hyperparameters tuning"
   ]
  },
  {
   "cell_type": "code",
   "execution_count": 13,
   "metadata": {},
   "outputs": [],
   "source": [
    "size = 10\n",
    "alphas = np.logspace(-3, 0, num=size)\n",
    "betas = 1 - np.logspace(-1, -2, num=size)\n",
    "lambdas = np.logspace(-3, 0, num=size)\n",
    "mini_batch_sizes = [2,4,8,16,32]"
   ]
  },
  {
   "cell_type": "code",
   "execution_count": 14,
   "metadata": {},
   "outputs": [
    {
     "name": "stdout",
     "output_type": "stream",
     "text": [
      "Test accuracy:  0.7555555555555555\n",
      "learning_rate= 0.001 \n",
      "beta= 0.9 \n",
      "lambda= 0.001 \n",
      "mini-batch size= 2 \n",
      "\n",
      "Test accuracy:  0.8222222222222223\n",
      "learning_rate= 0.001 \n",
      "beta= 0.9 \n",
      "lambda= 0.001 \n",
      "mini-batch size= 4 \n",
      "\n",
      "Test accuracy:  0.8722222222222222\n",
      "learning_rate= 0.001 \n",
      "beta= 0.9 \n",
      "lambda= 0.001 \n",
      "mini-batch size= 8 \n",
      "\n",
      "Test accuracy:  0.8902777777777778\n",
      "learning_rate= 0.0021544346900318843 \n",
      "beta= 0.9 \n",
      "lambda= 0.001 \n",
      "mini-batch size= 2 \n",
      "\n",
      "Test accuracy:  0.8930555555555556\n",
      "learning_rate= 0.004641588833612777 \n",
      "beta= 0.9 \n",
      "lambda= 0.01 \n",
      "mini-batch size= 2 \n",
      "\n",
      "Test accuracy:  0.9333333333333332\n",
      "learning_rate= 0.46415888336127775 \n",
      "beta= 0.9225736317318873 \n",
      "lambda= 1.0 \n",
      "mini-batch size= 4 \n",
      "\n",
      "Test accuracy:  0.9555555555555556\n",
      "learning_rate= 0.46415888336127775 \n",
      "beta= 0.9400515749681059 \n",
      "lambda= 1.0 \n",
      "mini-batch size= 4 \n",
      "\n"
     ]
    }
   ],
   "source": [
    "num_classes = 3\n",
    "best_mean_per_class_accuracy = 0\n",
    "\n",
    "for alpha in alphas:\n",
    "    for beta in betas:\n",
    "        for lambd in lambdas:\n",
    "            for mini_batch_size in mini_batch_sizes:\n",
    "                optimization_data = optimization(X_train, y_train, X_test, y_test, num_classes=num_classes,\n",
    "                                                 learning_rate=alpha, beta=beta, lambd=lambd, \n",
    "                                                 mini_batch_size=mini_batch_size, num_epochs=100)\n",
    "                W = optimization_data['W']\n",
    "                b = optimization_data['b']\n",
    "                \n",
    "                per_class_accuracy = []\n",
    "                for i in range(num_classes):\n",
    "                    per_class_accuracy.append(compute_accuracy(i, X_test, y_test, W, b))\n",
    "                mean_per_class_accuracy = np.nanmean(per_class_accuracy)\n",
    "                \n",
    "                if mean_per_class_accuracy > best_mean_per_class_accuracy:\n",
    "                    best_mean_per_class_accuracy = mean_per_class_accuracy\n",
    "                    print('Test accuracy: ', best_mean_per_class_accuracy)\n",
    "                    print('learning_rate=', alpha, \n",
    "                          '\\nbeta=', beta, \n",
    "                          '\\nlambda=', lambd, \n",
    "                          '\\nmini-batch size=', mini_batch_size, '\\n')"
   ]
  },
  {
   "cell_type": "markdown",
   "metadata": {},
   "source": [
    "# Training and evaluating an optimal classifier"
   ]
  },
  {
   "cell_type": "code",
   "execution_count": 31,
   "metadata": {},
   "outputs": [],
   "source": [
    "optimization_data = optimization(X_train, y_train, X_test, y_test, learning_rate=0.464, \n",
    "                                 beta=0.94, lambd=1, mini_batch_size=8,\n",
    "                                 num_epochs=200, compute_cost=True)"
   ]
  },
  {
   "cell_type": "code",
   "execution_count": 32,
   "metadata": {},
   "outputs": [
    {
     "data": {
      "image/png": "[encoded data removed]",
      "text/plain": [
       "<Figure size 432x288 with 1 Axes>"
      ]
     },
     "metadata": {},
     "output_type": "display_data"
    }
   ],
   "source": [
    "plt.plot(optimization_data['train_costs'],label='Train cost')\n",
    "plt.plot(optimization_data['test_costs'],label='Test cost')\n",
    "plt.xlabel('Epoch')\n",
    "plt.ylabel('Cost')\n",
    "plt.legend()\n",
    "plt.show()"
   ]
  },
  {
   "cell_type": "code",
   "execution_count": 33,
   "metadata": {},
   "outputs": [
    {
     "data": {
      "image/png": "[encoded data removed]",
      "text/plain": [
       "<Figure size 432x288 with 1 Axes>"
      ]
     },
     "metadata": {},
     "output_type": "display_data"
    }
   ],
   "source": [
    "plt.plot(optimization_data['mean_per_class_accuracy_train'], label='Train data')\n",
    "plt.plot(optimization_data['mean_per_class_accuracy_test'], label='Test data')\n",
    "plt.xlabel('Epoch')\n",
    "plt.ylabel('Mean per Class Accuracy')\n",
    "plt.legend()\n",
    "plt.show()"
   ]
  },
  {
   "cell_type": "markdown",
   "metadata": {},
   "source": [
    "# Plotting decision boundary"
   ]
  },
  {
   "cell_type": "code",
   "execution_count": 34,
   "metadata": {},
   "outputs": [],
   "source": [
    "min1 = min(min(X_train[0]), min(X_test[0]))\n",
    "max1 = max(max(X_train[0]), max(X_test[0]))\n",
    "min2 = min(min(X_train[1]), min(X_test[1]))\n",
    "max2 = max(max(X_train[1]), max(X_test[1]))"
   ]
  },
  {
   "cell_type": "code",
   "execution_count": 35,
   "metadata": {},
   "outputs": [],
   "source": [
    "step = 0.01\n",
    "xx, yy = np.meshgrid(np.arange(min1, max1, step),\n",
    "                     np.arange(min2, max2, step))"
   ]
  },
  {
   "cell_type": "code",
   "execution_count": 36,
   "metadata": {},
   "outputs": [],
   "source": [
    "data = np.dstack((xx,yy))\n",
    "data = data.reshape(-1,2).T"
   ]
  },
  {
   "cell_type": "code",
   "execution_count": 37,
   "metadata": {},
   "outputs": [],
   "source": [
    "y_hat = softmax(np.dot(W,data) + b)"
   ]
  },
  {
   "cell_type": "code",
   "execution_count": 38,
   "metadata": {},
   "outputs": [],
   "source": [
    "z = y_hat.argmax(axis=0).reshape(xx.shape[0],-1)"
   ]
  },
  {
   "cell_type": "code",
   "execution_count": 39,
   "metadata": {},
   "outputs": [
    {
     "data": {
      "image/png": "[encoded data removed]",
      "text/plain": [
       "<Figure size 504x504 with 1 Axes>"
      ]
     },
     "metadata": {},
     "output_type": "display_data"
    }
   ],
   "source": [
    "plt.figure(figsize=(7,7))\n",
    "colors = ['green','blue','brown']\n",
    "plt.contourf(xx,yy,z)\n",
    "plt.scatter(X_train[0], X_train[1], alpha=0.8, c=y_train.tolist()[0], cmap=matplotlib.colors.ListedColormap(colors))\n",
    "plt.title('Train Data');"
   ]
  },
  {
   "cell_type": "code",
   "execution_count": 40,
   "metadata": {},
   "outputs": [
    {
     "data": {
      "image/png": "[encoded data removed]",
      "text/plain": [
       "<Figure size 504x504 with 1 Axes>"
      ]
     },
     "metadata": {},
     "output_type": "display_data"
    }
   ],
   "source": [
    "plt.figure(figsize=(7,7))\n",
    "colors = ['green','blue','brown']\n",
    "plt.contourf(xx,yy,z)\n",
    "plt.scatter(X_test[0], X_test[1], alpha=0.8, c=y_test.tolist()[0], cmap=matplotlib.colors.ListedColormap(colors))\n",
    "plt.title('Test Data');"
   ]
  },
  {
   "cell_type": "code",
   "execution_count": null,
   "metadata": {},
   "outputs": [],
   "source": []
  }
 ],
 "metadata": {
  "kernelspec": {
   "display_name": "Python 3",
   "language": "python",
   "name": "python3"
  },
  "language_info": {
   "codemirror_mode": {
    "name": "ipython",
    "version": 3
   },
   "file_extension": ".py",
   "mimetype": "text/x-python",
   "name": "python",
   "nbconvert_exporter": "python",
   "pygments_lexer": "ipython3",
   "version": "3.6.5"
  }
 },
 "nbformat": 4,
 "nbformat_minor": 2
}
